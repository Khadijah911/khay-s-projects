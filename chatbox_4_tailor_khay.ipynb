{
 "cells": [
  {
   "cell_type": "code",
   "execution_count": 77,
   "id": "c5682fc6-1da9-43c0-b285-18cd9fec6c57",
   "metadata": {},
   "outputs": [],
   "source": [
    "import os\n",
    "from dotenv import load_dotenv\n",
    "from openai import OpenAI\n",
    "import gradio as gr\n",
    "import json"
   ]
  },
  {
   "cell_type": "code",
   "execution_count": 78,
   "id": "bbb88535-dbb2-4be4-b00f-13854b26f50e",
   "metadata": {},
   "outputs": [],
   "source": [
    "load_dotenv(override=True)\n",
    "openai_api_key = os.getenv('OPENAI_API_KEY')\n",
    "openai=OpenAI()\n",
    "MODEL = 'gpt-4o-mini'"
   ]
  },
  {
   "cell_type": "code",
   "execution_count": 92,
   "id": "88e1bc7c-e6a0-450c-9548-cbc22390f43f",
   "metadata": {},
   "outputs": [],
   "source": [
    "system_message=\"\"\"\n",
    "You are a friendly and professional chat assistant for **Tailor_Khay**, a fashion design brand. Your role is to handle customer inquiries, take orders, and provide excellent customer service.\n",
    "You also help clients book appointments by checking available dates.You help clients book appointments by checking available dates.\n",
    "Initial Customer Greeting Protocol\n",
    "** start by asking if the customer is a returning Tailor_Khay customer:**\n",
    "\n",
    "- **If they are a returning customer:** Reply with \"You na my person, you too sure! 😊\"\n",
    "- **If they are NOT a returning customer:** Reply with \"Heyy boo, you are at the right place! ✨\"\n",
    "\n",
    "## Services & Pricing Information\n",
    "\n",
    "### Basic Style Price Ranges (Starting prices - not fixed):\n",
    "- **Iro and Buba:** ₦4,000\n",
    "- **Two Piece:** ₦20,000  \n",
    "- **Boubou:** ₦7,500\n",
    "- **Abaya:** ₦10,000\n",
    "\n",
    "**Important:** Always inform customers that these are starting price ranges and final pricing may vary based on design complexity, fabric choice, and customizations.\n",
    "\n",
    "### Additional Fees:\n",
    "- **Rush Orders (less than 10 days):** Extra ₦5,000\n",
    "- **Fabric Sourcing Service:** Extra ₦5,000 (if Tailor_Khay provides the fabric)\n",
    "Standard Timeline:\n",
    "Regular Orders:** 10 working days completion time\n",
    "Order Taking Process\n",
    "\n",
    "When taking an order, ask the following questions:\n",
    "\n",
    "1. **Style Preference:**\n",
    "   - \"What style are you looking to sew?\"\n",
    "   - \"Do you have a specific design in mind?\"\n",
    "   - Offer to show available styles if needed\n",
    "\n",
    "2. **Color Preferences:**\n",
    "   - \"What color(s) would you prefer?\"\n",
    "   - Ask for primary and accent colors if applicable\n",
    "\n",
    "3. **Fabric Arrangements:**\n",
    "   - \"Will you be providing your own fabric, or would you like us to source it for you?\"\n",
    "   - If they want fabric sourcing, inform about the ₦5,000 additional fee\n",
    "\n",
    "4. **Timeline Requirements:**\n",
    "   - \"When do you need this completed?\"\n",
    "   - If less than 10 days, inform about the ₦5,000 rush fee\n",
    "\n",
    "5. **Measurements & Fitting:**\n",
    "   - Schedule measurement appointment\n",
    "   - Confirm fitting arrangements\n",
    "Special Protocol for Asoebi Orders\n",
    "IMMEDIATE ACTION REQUIRED:\n",
    "If a customer mentions **\"asoebi\"** or asks about group/matching outfits:\n",
    "- Respond: \"Please hold on, let me connect you with Tailor_Khay directly for your asoebi order. This requires special attention! 👗\"\n",
    "- Transfer the chat to the main designer immediately\n",
    "Complaint Handling\n",
    "- Listen actively and empathetically\n",
    "- Apologize for any inconvenience\n",
    "- Gather all relevant details\n",
    "- Provide solutions or escalate to Tailor_Khay when necessary\n",
    "- Follow up to ensure customer satisfaction\n",
    "Tone & Communication Style\n",
    "- Be warm, friendly, and professional\n",
    "- Use Nigerian expressions appropriately\n",
    "- Show enthusiasm for fashion and design\n",
    "- Be clear about pricing and timelines\n",
    "- Always confirm order details before finalizing\n",
    "Key Reminders\n",
    "- Always confirm if returning customer first\n",
    "- Emphasize that basic prices are starting ranges\n",
    "- Mention 10-day standard timeline\n",
    "- Clarify additional fees upfront\n",
    "- Transfer asoebi orders immediately to main designer\n",
    "- Be helpful and solution-oriented for complaints\n",
    "Remember: You represent the Tailor_Khay brand - be professional, creative, and customer-focused in all interactions!\n",
    "\n",
    "\"\"\""
   ]
  },
  {
   "cell_type": "code",
   "execution_count": null,
   "id": "1b29dc40-de46-424a-ac11-5b1222a42ce1",
   "metadata": {},
   "outputs": [],
   "source": []
  },
  {
   "cell_type": "code",
   "execution_count": 93,
   "id": "b8a69ae7-fbc1-4254-aecd-990436bb8b25",
   "metadata": {},
   "outputs": [],
   "source": [
    "def chat_tailorkhay(message, history):\n",
    "    messages = [{\"role\": \"system\", \"content\": system_message}] + history + [{\"role\": \"user\", \"content\": message}]\n",
    "\n",
    "    stream = openai.chat.completions.create(model=MODEL, messages=messages, stream=True)\n",
    "\n",
    "    response = \"\"\n",
    "    for chunk in stream:\n",
    "        response += chunk.choices[0].delta.content or ''\n",
    "        yield response"
   ]
  },
  {
   "cell_type": "code",
   "execution_count": 94,
   "id": "981d140b-52d1-4d6d-aeaa-767a122705fd",
   "metadata": {},
   "outputs": [
    {
     "name": "stdout",
     "output_type": "stream",
     "text": [
      "* Running on local URL:  http://127.0.0.1:7882\n",
      "* To create a public link, set `share=True` in `launch()`.\n"
     ]
    },
    {
     "data": {
      "text/html": [
       "<div><iframe src=\"http://127.0.0.1:7882/\" width=\"100%\" height=\"500\" allow=\"autoplay; camera; microphone; clipboard-read; clipboard-write;\" frameborder=\"0\" allowfullscreen></iframe></div>"
      ],
      "text/plain": [
       "<IPython.core.display.HTML object>"
      ]
     },
     "metadata": {},
     "output_type": "display_data"
    },
    {
     "data": {
      "text/plain": []
     },
     "execution_count": 94,
     "metadata": {},
     "output_type": "execute_result"
    }
   ],
   "source": [
    "gr.ChatInterface(fn=chat_tailorkhay, type=\"messages\").launch()"
   ]
  },
  {
   "cell_type": "code",
   "execution_count": 95,
   "id": "9b387b5d-ebbc-4775-8601-b5a03b7aaf5a",
   "metadata": {},
   "outputs": [],
   "source": [
    "calendar = {\n",
    "    \"2025-08-05\": \"booked\",\n",
    "    \"2025-08-06\": \"available\",\n",
    "    \"2025-08-07\": \"available\",\n",
    "    \"2025-08-08\": \"booked\",\n",
    "    \"2025-08-09\": \"available\",\n",
    "    \"2025-08-10\": \"booked\",\n",
    "    \"2025-08-11\": \"available\",\n",
    "    \"2025-08-12\": \"available\",\n",
    "    \"2025-08-13\": \"booked\",\n",
    "    \"2025-08-14\": \"available\",\n",
    "    \"2025-08-15\": \"booked\",\n",
    "    \"2025-08-16\": \"available\",\n",
    "    \"2025-08-17\": \"available\",\n",
    "    \"2025-08-18\": \"booked\",\n",
    "    \"2025-08-19\": \"available\"\n",
    "}\n"
   ]
  },
  {
   "cell_type": "code",
   "execution_count": 96,
   "id": "4bddb724-3fae-4490-9f15-abab05c62d2e",
   "metadata": {},
   "outputs": [],
   "source": [
    "def check_available_dates(start_date=None, end_date=None):\n",
    "    available = {}\n",
    "    for date, status in calendar.items():\n",
    "        if status == \"available\":\n",
    "            if (not start_date or date >= start_date) and (not end_date or date <= end_date):\n",
    "                available[date] = status\n",
    "    return list(available.keys())\n",
    "\n"
   ]
  },
  {
   "cell_type": "code",
   "execution_count": 97,
   "id": "d2a180aa-2358-40ee-bc34-8d620cb70cb8",
   "metadata": {},
   "outputs": [],
   "source": [
    "tools = [\n",
    "    {\n",
    "        \"type\": \"function\",\n",
    "        \"function\": {\n",
    "            \"name\": \"check_available_dates\",\n",
    "            \"description\": \"Check available appointment dates for Khay the tailor\",\n",
    "            \"parameters\": {\n",
    "                \"type\": \"object\",\n",
    "                \"properties\": {\n",
    "                    \"start_date\": {\n",
    "                        \"type\": \"string\",\n",
    "                        \"description\": \"The start of the date range to check (YYYY-MM-DD)\"\n",
    "                    },\n",
    "                    \"end_date\": {\n",
    "                        \"type\": \"string\",\n",
    "                        \"description\": \"The end of the date range to check (YYYY-MM-DD)\"\n",
    "                    }\n",
    "                },\n",
    "                \"required\": []\n",
    "            }\n",
    "        }\n",
    "    }\n",
    "]\n",
    "\n"
   ]
  },
  {
   "cell_type": "code",
   "execution_count": 98,
   "id": "83b33c7d-4908-4e36-902d-2fafbe41a589",
   "metadata": {},
   "outputs": [],
   "source": [
    "#tools = [{\"type\": \"function\", \"function\": date_check_func}]\n"
   ]
  },
  {
   "cell_type": "code",
   "execution_count": null,
   "id": "ec4eb81c-3893-4c18-b071-b09dd97429b3",
   "metadata": {},
   "outputs": [],
   "source": [
    "\n"
   ]
  },
  {
   "cell_type": "code",
   "execution_count": 99,
   "id": "e1e35834-c3f4-477a-b339-64674f8fbddc",
   "metadata": {},
   "outputs": [],
   "source": [
    "def chat_tailorkhay(message, history):\n",
    "    messages = [{\"role\": \"system\", \"content\":system_message}] + history + [{\"role\": \"user\", \"content\": message}]\n",
    "\n",
    "    response = openai.chat.completions.create(\n",
    "        model=\"gpt-4o\",\n",
    "        messages=messages,\n",
    "        tools=tools\n",
    "    )\n",
    "\n",
    "    if response.choices[0].finish_reason == \"tool_calls\":\n",
    "        message = response.choices[0].message\n",
    "        tool_response, _ = handle_tool_call(message)\n",
    "\n",
    "        messages.append(message)\n",
    "        messages.append(tool_response)\n",
    "\n",
    "        # Re-run with tool result\n",
    "        response = openai.chat.completions.create(\n",
    "            model=\"gpt-4o\",\n",
    "            messages=messages\n",
    "        )\n",
    "\n",
    "    return response.choices[0].message.content\n",
    "\n",
    "\n"
   ]
  },
  {
   "cell_type": "code",
   "execution_count": 100,
   "id": "2fb75c96-42d8-4b5f-905a-41d4f8bde3ed",
   "metadata": {},
   "outputs": [],
   "source": [
    "def handle_tool_call(message):\n",
    "    tool_call = message.tool_calls[0]\n",
    "    arguments = json.loads(tool_call.function.arguments)\n",
    "    start = arguments.get('start_date')\n",
    "    end = arguments.get('end_date')\n",
    "    available_dates = check_available_dates(start, end)\n",
    "\n",
    "    response = {\n",
    "        \"role\": \"tool\",\n",
    "        \"content\": json.dumps({\"available_dates\": available_dates}),\n",
    "        \"tool_call_id\": tool_call.id\n",
    "    }\n",
    "    return response, (start, end)"
   ]
  },
  {
   "cell_type": "code",
   "execution_count": 102,
   "id": "90574f19-090f-4ea6-83ba-415ad1603d45",
   "metadata": {},
   "outputs": [
    {
     "data": {
      "text/plain": [
       "\"I have found several available dates for appointments between 2025-08-03 and 2025-08-17. Please let me know which date works best for you:\\n\\n- 2025-08-06\\n- 2025-08-07\\n- 2025-08-09\\n- 2025-08-11\\n- 2025-08-12\\n- 2025-08-14\\n- 2025-08-16\\n- 2025-08-17\\n\\nLet me know your preference and I'll book it for you! 😊\""
      ]
     },
     "execution_count": 102,
     "metadata": {},
     "output_type": "execute_result"
    }
   ],
   "source": [
    "chat_tailorkhay(\"I want to book an appointment between 2025-08-03 and 2025-08-017\", [])\n"
   ]
  },
  {
   "cell_type": "code",
   "execution_count": 103,
   "id": "85a7bc33-deec-4397-b1e9-b67cffab8aca",
   "metadata": {},
   "outputs": [
    {
     "name": "stdout",
     "output_type": "stream",
     "text": [
      "* Running on local URL:  http://127.0.0.1:7883\n",
      "* To create a public link, set `share=True` in `launch()`.\n"
     ]
    },
    {
     "data": {
      "text/html": [
       "<div><iframe src=\"http://127.0.0.1:7883/\" width=\"100%\" height=\"500\" allow=\"autoplay; camera; microphone; clipboard-read; clipboard-write;\" frameborder=\"0\" allowfullscreen></iframe></div>"
      ],
      "text/plain": [
       "<IPython.core.display.HTML object>"
      ]
     },
     "metadata": {},
     "output_type": "display_data"
    },
    {
     "data": {
      "text/plain": []
     },
     "execution_count": 103,
     "metadata": {},
     "output_type": "execute_result"
    }
   ],
   "source": [
    "gr.ChatInterface(fn=chat_tailorkhay, type=\"messages\").launch()"
   ]
  },
  {
   "cell_type": "code",
   "execution_count": null,
   "id": "c74c62be-2ab6-46f9-9e44-42a5444972f8",
   "metadata": {},
   "outputs": [],
   "source": []
  }
 ],
 "metadata": {
  "kernelspec": {
   "display_name": "Python 3 (ipykernel)",
   "language": "python",
   "name": "python3"
  },
  "language_info": {
   "codemirror_mode": {
    "name": "ipython",
    "version": 3
   },
   "file_extension": ".py",
   "mimetype": "text/x-python",
   "name": "python",
   "nbconvert_exporter": "python",
   "pygments_lexer": "ipython3",
   "version": "3.13.5"
  }
 },
 "nbformat": 4,
 "nbformat_minor": 5
}
