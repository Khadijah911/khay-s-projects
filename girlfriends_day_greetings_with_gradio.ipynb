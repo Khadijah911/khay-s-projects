{
 "cells": [
  {
   "cell_type": "code",
   "execution_count": 1,
   "id": "e115a5a2-c939-408c-829a-f17acf43efe4",
   "metadata": {},
   "outputs": [],
   "source": [
    "import os\n",
    "import requests\n",
    "from bs4 import BeautifulSoup\n",
    "from typing import List\n",
    "from dotenv import load_dotenv\n",
    "from openai import OpenAI\n",
    "import google.generativeai\n",
    "import anthropic"
   ]
  },
  {
   "cell_type": "code",
   "execution_count": 2,
   "id": "17494baf-0f32-41b0-8f9d-937450199897",
   "metadata": {},
   "outputs": [],
   "source": [
    "import gradio as gr"
   ]
  },
  {
   "cell_type": "code",
   "execution_count": 3,
   "id": "f3310ec6-4286-4836-9c3b-5e2f5cd5b5a6",
   "metadata": {},
   "outputs": [],
   "source": [
    "load_dotenv(override=True)\n",
    "openai_api_key = os.getenv('OPENAI_API_KEY')\n",
    "openai=OpenAI()"
   ]
  },
  {
   "cell_type": "code",
   "execution_count": 4,
   "id": "89bf4cd4-3d03-4c64-821f-b7c55922146e",
   "metadata": {},
   "outputs": [],
   "source": [
    "system_message = \"You are an assistant  that generates beautiful message to my girls for girlfriend's day ,you act like the message is from me,only return the messages\"\n"
   ]
  },
  {
   "cell_type": "code",
   "execution_count": 5,
   "id": "471d6cbe-86d3-4aba-b734-5f0eb2a2fa24",
   "metadata": {},
   "outputs": [],
   "source": [
    "def user_prompt(name):\n",
    "    prompt = f\"\"\"i have a friend and i want you to write some thing beautiful to her ,tell her i love and see her as a sister and tell her happy girlfriend's day, and start with hi plus her name {name} and end it with \n",
    "    'from your favorite girl khoddyy'\n",
    "    \"\"\"\n",
    "    return prompt"
   ]
  },
  {
   "cell_type": "code",
   "execution_count": 6,
   "id": "5591472b-ac3b-40da-bb02-bd8275c2d7f1",
   "metadata": {},
   "outputs": [
    {
     "data": {
      "text/plain": [
       "\"i have a friend and i want you to write some thing beautiful to her ,tell her i love and see her as a sister and tell her happy girlfriend's day, and start with hi plus her name khay and end it with \\n    'from your favorite girl khoddyy'\\n    \""
      ]
     },
     "execution_count": 6,
     "metadata": {},
     "output_type": "execute_result"
    }
   ],
   "source": [
    "user_prompt('khay')"
   ]
  },
  {
   "cell_type": "code",
   "execution_count": 7,
   "id": "989280fb-4173-4b20-8f23-e46cd2dfd221",
   "metadata": {},
   "outputs": [],
   "source": [
    "#prompt = \"i have a friend and i want you to write some thing beautiful to her ,tell her i love and see her as a sister and start with hi pluse her name \""
   ]
  },
  {
   "cell_type": "code",
   "execution_count": 8,
   "id": "77a2169f-8035-4149-a548-0e5d362c14fd",
   "metadata": {},
   "outputs": [],
   "source": [
    "from IPython.display import Markdown, display\n",
    "def message_gpt(name):\n",
    "    messages = [\n",
    "        {\"role\": \"system\", \"content\": system_message},\n",
    "        {\"role\": \"user\", \"content\": user_prompt(name)}\n",
    "      ]\n",
    "    completion = openai.chat.completions.create(\n",
    "        model='gpt-4o-mini',\n",
    "        messages=messages,\n",
    "    )\n",
    "    result = completion.choices[0].message.content\n",
    "    return result\n",
    "    "
   ]
  },
  {
   "cell_type": "code",
   "execution_count": 9,
   "id": "860150cc-5a18-46c6-b644-5a28e7230785",
   "metadata": {},
   "outputs": [
    {
     "data": {
      "text/plain": [
       "\"Hi Naseemah,\\n\\nOn this special day dedicated to love and friendship, I want you to know just how much you mean to me. You are not just a friend; you are like a sister to me. Your kindness, strength, and laughter light up my life in ways I can't express. Happy Girlfriend's Day! I cherish our bond and am grateful to have you by my side.\\n\\nFrom your favorite girl, Khoddyy.\""
      ]
     },
     "execution_count": 9,
     "metadata": {},
     "output_type": "execute_result"
    }
   ],
   "source": [
    "message_gpt('naseemah')"
   ]
  },
  {
   "cell_type": "code",
   "execution_count": 10,
   "id": "2df05009-1b86-44e7-8a5b-2a67deb70fee",
   "metadata": {},
   "outputs": [
    {
     "data": {
      "text/plain": [
       "\"Hi Kaffco,\\n\\nOn this special day, I just want to take a moment to remind you how much you mean to me. You are not just a friend; you are like the sister I’ve always wanted. Your laughter brightens my days, and your kindness warms my heart. \\n\\nHappy Girlfriend's Day! May your day be filled with love and joy, just like you bring into my life.\\n\\nFrom your favorite girl, Khoddyy\""
      ]
     },
     "execution_count": 10,
     "metadata": {},
     "output_type": "execute_result"
    }
   ],
   "source": [
    "message_gpt('kaffco')"
   ]
  },
  {
   "cell_type": "code",
   "execution_count": 11,
   "id": "e85286c2-fb69-46c6-b67d-c00ae0d6635c",
   "metadata": {},
   "outputs": [],
   "source": [
    "def shout(text):\n",
    "    print(f\"Shout has been called with input {text}\")\n",
    "    result=text.upper() + '!!'\n",
    "    return result"
   ]
  },
  {
   "cell_type": "code",
   "execution_count": 12,
   "id": "3b9d5cf0-0924-4b3b-98f3-df81df195977",
   "metadata": {},
   "outputs": [
    {
     "name": "stdout",
     "output_type": "stream",
     "text": [
      "Shout has been called with input khaddy is a GOAT\n"
     ]
    },
    {
     "data": {
      "text/plain": [
       "'KHADDY IS A GOAT!!'"
      ]
     },
     "execution_count": 12,
     "metadata": {},
     "output_type": "execute_result"
    }
   ],
   "source": [
    "shout('khaddy is a GOAT')"
   ]
  },
  {
   "cell_type": "code",
   "execution_count": 13,
   "id": "1d3c72d5-e3f2-4990-807f-79c873952a0a",
   "metadata": {},
   "outputs": [
    {
     "name": "stdout",
     "output_type": "stream",
     "text": [
      "* Running on local URL:  http://127.0.0.1:7860\n",
      "* To create a public link, set `share=True` in `launch()`.\n"
     ]
    },
    {
     "data": {
      "text/html": [
       "<div><iframe src=\"http://127.0.0.1:7860/\" width=\"100%\" height=\"500\" allow=\"autoplay; camera; microphone; clipboard-read; clipboard-write;\" frameborder=\"0\" allowfullscreen></iframe></div>"
      ],
      "text/plain": [
       "<IPython.core.display.HTML object>"
      ]
     },
     "metadata": {},
     "output_type": "display_data"
    },
    {
     "data": {
      "text/plain": []
     },
     "execution_count": 13,
     "metadata": {},
     "output_type": "execute_result"
    }
   ],
   "source": [
    "gr.Interface(fn=shout, inputs=\"textbox\", outputs=\"textbox\").launch()"
   ]
  },
  {
   "cell_type": "code",
   "execution_count": 14,
   "id": "4b47e3bf-63c0-46c5-8792-eb9151b5e88e",
   "metadata": {},
   "outputs": [
    {
     "name": "stdout",
     "output_type": "stream",
     "text": [
      "* Running on local URL:  http://127.0.0.1:7861\n",
      "* To create a public link, set `share=True` in `launch()`.\n"
     ]
    },
    {
     "data": {
      "text/html": [
       "<div><iframe src=\"http://127.0.0.1:7861/\" width=\"100%\" height=\"500\" allow=\"autoplay; camera; microphone; clipboard-read; clipboard-write;\" frameborder=\"0\" allowfullscreen></iframe></div>"
      ],
      "text/plain": [
       "<IPython.core.display.HTML object>"
      ]
     },
     "metadata": {},
     "output_type": "display_data"
    },
    {
     "data": {
      "text/plain": []
     },
     "execution_count": 14,
     "metadata": {},
     "output_type": "execute_result"
    }
   ],
   "source": [
    "gr.Interface(fn=shout, inputs=\"textbox\", outputs=\"textbox\", flagging_mode=\"never\").launch(inbrowser=True)"
   ]
  },
  {
   "cell_type": "code",
   "execution_count": 15,
   "id": "686b4b6d-c3ae-4f8d-aca9-6f69155b7bb6",
   "metadata": {},
   "outputs": [
    {
     "name": "stdout",
     "output_type": "stream",
     "text": [
      "* Running on local URL:  http://127.0.0.1:7862\n",
      "* To create a public link, set `share=True` in `launch()`.\n"
     ]
    },
    {
     "data": {
      "text/html": [
       "<div><iframe src=\"http://127.0.0.1:7862/\" width=\"100%\" height=\"500\" allow=\"autoplay; camera; microphone; clipboard-read; clipboard-write;\" frameborder=\"0\" allowfullscreen></iframe></div>"
      ],
      "text/plain": [
       "<IPython.core.display.HTML object>"
      ]
     },
     "metadata": {},
     "output_type": "display_data"
    },
    {
     "data": {
      "text/plain": []
     },
     "execution_count": 15,
     "metadata": {},
     "output_type": "execute_result"
    }
   ],
   "source": [
    "# Define this variable and then pass js=force_dark_mode when creating the Interface\n",
    "\n",
    "force_dark_mode = \"\"\"\n",
    "function refresh() {\n",
    "    const url = new URL(window.location);\n",
    "    if (url.searchParams.get('__theme') !== 'dark') {\n",
    "        url.searchParams.set('__theme', 'dark');\n",
    "        window.location.href = url.href;\n",
    "    }\n",
    "}\n",
    "\"\"\"\n",
    "gr.Interface(fn=shout, inputs=\"textbox\", outputs=\"textbox\", flagging_mode=\"never\", js=force_dark_mode).launch()"
   ]
  },
  {
   "cell_type": "code",
   "execution_count": 16,
   "id": "d937aec3-e04f-4333-ab67-533d743af6da",
   "metadata": {},
   "outputs": [
    {
     "name": "stdout",
     "output_type": "stream",
     "text": [
      "* Running on local URL:  http://127.0.0.1:7863\n",
      "\n",
      "Could not create share link. Please check your internet connection or our status page: https://status.gradio.app.\n"
     ]
    },
    {
     "data": {
      "text/html": [
       "<div><iframe src=\"http://127.0.0.1:7863/\" width=\"100%\" height=\"500\" allow=\"autoplay; camera; microphone; clipboard-read; clipboard-write;\" frameborder=\"0\" allowfullscreen></iframe></div>"
      ],
      "text/plain": [
       "<IPython.core.display.HTML object>"
      ]
     },
     "metadata": {},
     "output_type": "display_data"
    },
    {
     "data": {
      "text/plain": []
     },
     "execution_count": 16,
     "metadata": {},
     "output_type": "execute_result"
    },
    {
     "name": "stdout",
     "output_type": "stream",
     "text": [
      "Shout has been called with input halimah\n"
     ]
    }
   ],
   "source": [
    "view = gr.Interface(\n",
    "    fn=message_gpt,\n",
    "    inputs=[gr.Textbox(label=\"Your message:\", lines=1)],\n",
    "    outputs=[gr.Textbox(label=\"Response:\", lines=10)],\n",
    "    flagging_mode=\"never\"\n",
    ")\n",
    "view.launch(share=True)"
   ]
  },
  {
   "cell_type": "code",
   "execution_count": null,
   "id": "0a6b2d1f-64f7-41ed-8689-01dbd86f09e5",
   "metadata": {},
   "outputs": [],
   "source": []
  },
  {
   "cell_type": "code",
   "execution_count": null,
   "id": "2e317790-20d6-449c-af1a-614380efe814",
   "metadata": {},
   "outputs": [],
   "source": []
  }
 ],
 "metadata": {
  "kernelspec": {
   "display_name": "Python 3 (ipykernel)",
   "language": "python",
   "name": "python3"
  },
  "language_info": {
   "codemirror_mode": {
    "name": "ipython",
    "version": 3
   },
   "file_extension": ".py",
   "mimetype": "text/x-python",
   "name": "python",
   "nbconvert_exporter": "python",
   "pygments_lexer": "ipython3",
   "version": "3.11.13"
  }
 },
 "nbformat": 4,
 "nbformat_minor": 5
}
